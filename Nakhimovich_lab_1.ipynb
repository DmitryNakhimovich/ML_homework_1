{
 "cells": [
  {
   "cell_type": "code",
   "execution_count": 27,
   "metadata": {
    "collapsed": true
   },
   "outputs": [],
   "source": [
    "import numpy as np\n",
    "import matplotlib.pyplot as plt\n",
    "import pandas as pd\n",
    "%matplotlib inline"
   ]
  },
  {
   "cell_type": "code",
   "execution_count": 28,
   "metadata": {
    "collapsed": true
   },
   "outputs": [],
   "source": [
    "data = pd.read_csv('https://raw.githubusercontent.com/DmitryNakhimovich/ML_homework_1/master/leaf.csv', sep = ',', engine = 'python')"
   ]
  },
  {
   "cell_type": "code",
   "execution_count": 29,
   "metadata": {},
   "outputs": [
    {
     "data": {
      "text/html": [
       "<div>\n",
       "<style>\n",
       "    .dataframe thead tr:only-child th {\n",
       "        text-align: right;\n",
       "    }\n",
       "\n",
       "    .dataframe thead th {\n",
       "        text-align: left;\n",
       "    }\n",
       "\n",
       "    .dataframe tbody tr th {\n",
       "        vertical-align: top;\n",
       "    }\n",
       "</style>\n",
       "<table border=\"1\" class=\"dataframe\">\n",
       "  <thead>\n",
       "    <tr style=\"text-align: right;\">\n",
       "      <th></th>\n",
       "      <th>Class</th>\n",
       "      <th>Specimen_Number</th>\n",
       "      <th>Eccentricity</th>\n",
       "      <th>Aspect_Ratio</th>\n",
       "      <th>Elongation</th>\n",
       "      <th>Solidity</th>\n",
       "      <th>Stochastic_Convexity</th>\n",
       "      <th>Isoperimetric_Factor</th>\n",
       "      <th>Maximal_Indentation_Depth</th>\n",
       "      <th>Lobedness</th>\n",
       "      <th>Average_Intensity</th>\n",
       "      <th>Average_Contrast</th>\n",
       "      <th>Smoothness</th>\n",
       "      <th>Third_moment</th>\n",
       "      <th>Uniformity</th>\n",
       "      <th>Entropy</th>\n",
       "    </tr>\n",
       "  </thead>\n",
       "  <tbody>\n",
       "    <tr>\n",
       "      <th>0</th>\n",
       "      <td>1</td>\n",
       "      <td>1</td>\n",
       "      <td>0.72694</td>\n",
       "      <td>1.4742</td>\n",
       "      <td>0.32396</td>\n",
       "      <td>0.98535</td>\n",
       "      <td>1.00000</td>\n",
       "      <td>0.83592</td>\n",
       "      <td>0.004657</td>\n",
       "      <td>0.003947</td>\n",
       "      <td>0.047790</td>\n",
       "      <td>0.127950</td>\n",
       "      <td>0.016108</td>\n",
       "      <td>0.005232</td>\n",
       "      <td>0.000275</td>\n",
       "      <td>1.17560</td>\n",
       "    </tr>\n",
       "    <tr>\n",
       "      <th>1</th>\n",
       "      <td>1</td>\n",
       "      <td>2</td>\n",
       "      <td>0.74173</td>\n",
       "      <td>1.5257</td>\n",
       "      <td>0.36116</td>\n",
       "      <td>0.98152</td>\n",
       "      <td>0.99825</td>\n",
       "      <td>0.79867</td>\n",
       "      <td>0.005242</td>\n",
       "      <td>0.005002</td>\n",
       "      <td>0.024160</td>\n",
       "      <td>0.090476</td>\n",
       "      <td>0.008119</td>\n",
       "      <td>0.002708</td>\n",
       "      <td>0.000075</td>\n",
       "      <td>0.69659</td>\n",
       "    </tr>\n",
       "    <tr>\n",
       "      <th>2</th>\n",
       "      <td>1</td>\n",
       "      <td>3</td>\n",
       "      <td>0.76722</td>\n",
       "      <td>1.5725</td>\n",
       "      <td>0.38998</td>\n",
       "      <td>0.97755</td>\n",
       "      <td>1.00000</td>\n",
       "      <td>0.80812</td>\n",
       "      <td>0.007457</td>\n",
       "      <td>0.010121</td>\n",
       "      <td>0.011897</td>\n",
       "      <td>0.057445</td>\n",
       "      <td>0.003289</td>\n",
       "      <td>0.000921</td>\n",
       "      <td>0.000038</td>\n",
       "      <td>0.44348</td>\n",
       "    </tr>\n",
       "    <tr>\n",
       "      <th>3</th>\n",
       "      <td>1</td>\n",
       "      <td>4</td>\n",
       "      <td>0.73797</td>\n",
       "      <td>1.4597</td>\n",
       "      <td>0.35376</td>\n",
       "      <td>0.97566</td>\n",
       "      <td>1.00000</td>\n",
       "      <td>0.81697</td>\n",
       "      <td>0.006877</td>\n",
       "      <td>0.008607</td>\n",
       "      <td>0.015950</td>\n",
       "      <td>0.065491</td>\n",
       "      <td>0.004271</td>\n",
       "      <td>0.001154</td>\n",
       "      <td>0.000066</td>\n",
       "      <td>0.58785</td>\n",
       "    </tr>\n",
       "    <tr>\n",
       "      <th>4</th>\n",
       "      <td>1</td>\n",
       "      <td>5</td>\n",
       "      <td>0.82301</td>\n",
       "      <td>1.7707</td>\n",
       "      <td>0.44462</td>\n",
       "      <td>0.97698</td>\n",
       "      <td>1.00000</td>\n",
       "      <td>0.75493</td>\n",
       "      <td>0.007428</td>\n",
       "      <td>0.010042</td>\n",
       "      <td>0.007938</td>\n",
       "      <td>0.045339</td>\n",
       "      <td>0.002051</td>\n",
       "      <td>0.000560</td>\n",
       "      <td>0.000024</td>\n",
       "      <td>0.34214</td>\n",
       "    </tr>\n",
       "  </tbody>\n",
       "</table>\n",
       "</div>"
      ],
      "text/plain": [
       "   Class  Specimen_Number  Eccentricity  Aspect_Ratio  Elongation  Solidity  \\\n",
       "0      1                1       0.72694        1.4742     0.32396   0.98535   \n",
       "1      1                2       0.74173        1.5257     0.36116   0.98152   \n",
       "2      1                3       0.76722        1.5725     0.38998   0.97755   \n",
       "3      1                4       0.73797        1.4597     0.35376   0.97566   \n",
       "4      1                5       0.82301        1.7707     0.44462   0.97698   \n",
       "\n",
       "   Stochastic_Convexity  Isoperimetric_Factor  Maximal_Indentation_Depth  \\\n",
       "0               1.00000               0.83592                   0.004657   \n",
       "1               0.99825               0.79867                   0.005242   \n",
       "2               1.00000               0.80812                   0.007457   \n",
       "3               1.00000               0.81697                   0.006877   \n",
       "4               1.00000               0.75493                   0.007428   \n",
       "\n",
       "   Lobedness  Average_Intensity  Average_Contrast  Smoothness  Third_moment  \\\n",
       "0   0.003947           0.047790          0.127950    0.016108      0.005232   \n",
       "1   0.005002           0.024160          0.090476    0.008119      0.002708   \n",
       "2   0.010121           0.011897          0.057445    0.003289      0.000921   \n",
       "3   0.008607           0.015950          0.065491    0.004271      0.001154   \n",
       "4   0.010042           0.007938          0.045339    0.002051      0.000560   \n",
       "\n",
       "   Uniformity  Entropy  \n",
       "0    0.000275  1.17560  \n",
       "1    0.000075  0.69659  \n",
       "2    0.000038  0.44348  \n",
       "3    0.000066  0.58785  \n",
       "4    0.000024  0.34214  "
      ]
     },
     "execution_count": 29,
     "metadata": {},
     "output_type": "execute_result"
    }
   ],
   "source": [
    "data.head()"
   ]
  },
  {
   "cell_type": "code",
   "execution_count": 30,
   "metadata": {},
   "outputs": [
    {
     "data": {
      "text/plain": [
       "dtype('int64')"
      ]
     },
     "execution_count": 30,
     "metadata": {},
     "output_type": "execute_result"
    }
   ],
   "source": [
    "data['Class'].dtype"
   ]
  },
  {
   "cell_type": "code",
   "execution_count": 31,
   "metadata": {},
   "outputs": [],
   "source": [
    "data = data.drop(['Specimen_Number'], axis = 1)"
   ]
  },
  {
   "cell_type": "code",
   "execution_count": 32,
   "metadata": {},
   "outputs": [
    {
     "data": {
      "text/plain": [
       "dtype('float64')"
      ]
     },
     "execution_count": 32,
     "metadata": {},
     "output_type": "execute_result"
    }
   ],
   "source": [
    "data['Eccentricity'].dtype"
   ]
  },
  {
   "cell_type": "code",
   "execution_count": 33,
   "metadata": {},
   "outputs": [
    {
     "name": "stdout",
     "output_type": "stream",
     "text": [
      "['Class']\n",
      "['Eccentricity', 'Aspect_Ratio', 'Elongation', 'Solidity', 'Stochastic_Convexity', 'Isoperimetric_Factor', 'Maximal_Indentation_Depth', 'Lobedness', 'Average_Intensity', 'Average_Contrast', 'Smoothness', 'Third_moment', 'Uniformity', 'Entropy']\n"
     ]
    }
   ],
   "source": [
    "categorical_columns = [c for c in data.columns if data[c].dtype.name == 'int64']\n",
    "numerical_columns   = [c for c in data.columns if data[c].dtype.name == 'float64']\n",
    "print(categorical_columns)\n",
    "print(numerical_columns)"
   ]
  },
  {
   "cell_type": "code",
   "execution_count": 34,
   "metadata": {},
   "outputs": [],
   "source": [
    "data = data.fillna(data.median(axis = 0), axis = 0)"
   ]
  },
  {
   "cell_type": "code",
   "execution_count": 35,
   "metadata": {},
   "outputs": [
    {
     "data": {
      "text/plain": [
       "Eccentricity                 340\n",
       "Aspect_Ratio                 340\n",
       "Elongation                   340\n",
       "Solidity                     340\n",
       "Stochastic_Convexity         340\n",
       "Isoperimetric_Factor         340\n",
       "Maximal_Indentation_Depth    340\n",
       "Lobedness                    340\n",
       "Average_Intensity            340\n",
       "Average_Contrast             340\n",
       "Smoothness                   340\n",
       "Third_moment                 340\n",
       "Uniformity                   340\n",
       "Entropy                      340\n",
       "dtype: int64"
      ]
     },
     "execution_count": 35,
     "metadata": {},
     "output_type": "execute_result"
    }
   ],
   "source": [
    "data[numerical_columns].count(axis = 0)"
   ]
  },
  {
   "cell_type": "code",
   "execution_count": 36,
   "metadata": {},
   "outputs": [
    {
     "data": {
      "text/plain": [
       "Class    340\n",
       "dtype: int64"
      ]
     },
     "execution_count": 36,
     "metadata": {},
     "output_type": "execute_result"
    }
   ],
   "source": [
    "data[categorical_columns].count(axis = 0)"
   ]
  },
  {
   "cell_type": "code",
   "execution_count": 38,
   "metadata": {},
   "outputs": [
    {
     "data": {
      "text/plain": [
       "pandas.core.series.Series"
      ]
     },
     "execution_count": 38,
     "metadata": {},
     "output_type": "execute_result"
    }
   ],
   "source": [
    "type(data['Class'].describe())"
   ]
  },
  {
   "cell_type": "code",
   "execution_count": 39,
   "metadata": {},
   "outputs": [
    {
     "name": "stdout",
     "output_type": "stream",
     "text": [
      "['Class']\n"
     ]
    }
   ],
   "source": [
    "nonbinary_columns = categorical_columns\n",
    "print(nonbinary_columns)"
   ]
  },
  {
   "cell_type": "code",
   "execution_count": 40,
   "metadata": {},
   "outputs": [
    {
     "data": {
      "text/plain": [
       "array([ 1,  2,  3,  4,  5,  6,  7,  8,  9, 10, 11, 12, 13, 14, 15, 22, 23,\n",
       "       24, 25, 26, 27, 28, 29, 30, 31, 32, 33, 34, 35, 36], dtype=int64)"
      ]
     },
     "execution_count": 40,
     "metadata": {},
     "output_type": "execute_result"
    }
   ],
   "source": [
    "data['Class'].unique()"
   ]
  },
  {
   "cell_type": "code",
   "execution_count": 41,
   "metadata": {},
   "outputs": [
    {
     "name": "stdout",
     "output_type": "stream",
     "text": [
      "Index(['Class'], dtype='object')\n"
     ]
    }
   ],
   "source": [
    "data_nonbinary = pd.get_dummies(data[nonbinary_columns])\n",
    "print(data_nonbinary.columns)"
   ]
  },
  {
   "cell_type": "code",
   "execution_count": 42,
   "metadata": {},
   "outputs": [
    {
     "data": {
      "text/html": [
       "<div>\n",
       "<style>\n",
       "    .dataframe thead tr:only-child th {\n",
       "        text-align: right;\n",
       "    }\n",
       "\n",
       "    .dataframe thead th {\n",
       "        text-align: left;\n",
       "    }\n",
       "\n",
       "    .dataframe tbody tr th {\n",
       "        vertical-align: top;\n",
       "    }\n",
       "</style>\n",
       "<table border=\"1\" class=\"dataframe\">\n",
       "  <thead>\n",
       "    <tr style=\"text-align: right;\">\n",
       "      <th></th>\n",
       "      <th>Eccentricity</th>\n",
       "      <th>Aspect_Ratio</th>\n",
       "      <th>Elongation</th>\n",
       "      <th>Solidity</th>\n",
       "      <th>Stochastic_Convexity</th>\n",
       "      <th>Isoperimetric_Factor</th>\n",
       "      <th>Maximal_Indentation_Depth</th>\n",
       "      <th>Lobedness</th>\n",
       "      <th>Average_Intensity</th>\n",
       "      <th>Average_Contrast</th>\n",
       "      <th>Smoothness</th>\n",
       "      <th>Third_moment</th>\n",
       "      <th>Uniformity</th>\n",
       "      <th>Entropy</th>\n",
       "    </tr>\n",
       "  </thead>\n",
       "  <tbody>\n",
       "    <tr>\n",
       "      <th>count</th>\n",
       "      <td>340.000000</td>\n",
       "      <td>340.000000</td>\n",
       "      <td>340.000000</td>\n",
       "      <td>340.000000</td>\n",
       "      <td>340.000000</td>\n",
       "      <td>340.000000</td>\n",
       "      <td>340.000000</td>\n",
       "      <td>340.000000</td>\n",
       "      <td>340.000000</td>\n",
       "      <td>340.000000</td>\n",
       "      <td>340.000000</td>\n",
       "      <td>340.000000</td>\n",
       "      <td>340.000000</td>\n",
       "      <td>340.000000</td>\n",
       "    </tr>\n",
       "    <tr>\n",
       "      <th>mean</th>\n",
       "      <td>0.719854</td>\n",
       "      <td>2.440210</td>\n",
       "      <td>0.513760</td>\n",
       "      <td>0.904158</td>\n",
       "      <td>0.943793</td>\n",
       "      <td>0.531234</td>\n",
       "      <td>0.037345</td>\n",
       "      <td>0.523845</td>\n",
       "      <td>0.051346</td>\n",
       "      <td>0.124535</td>\n",
       "      <td>0.017670</td>\n",
       "      <td>0.005928</td>\n",
       "      <td>0.000387</td>\n",
       "      <td>1.162630</td>\n",
       "    </tr>\n",
       "    <tr>\n",
       "      <th>std</th>\n",
       "      <td>0.208311</td>\n",
       "      <td>2.599043</td>\n",
       "      <td>0.195583</td>\n",
       "      <td>0.114639</td>\n",
       "      <td>0.115047</td>\n",
       "      <td>0.217532</td>\n",
       "      <td>0.038575</td>\n",
       "      <td>1.039639</td>\n",
       "      <td>0.035965</td>\n",
       "      <td>0.051860</td>\n",
       "      <td>0.013755</td>\n",
       "      <td>0.005294</td>\n",
       "      <td>0.000431</td>\n",
       "      <td>0.584854</td>\n",
       "    </tr>\n",
       "    <tr>\n",
       "      <th>min</th>\n",
       "      <td>0.117080</td>\n",
       "      <td>1.006600</td>\n",
       "      <td>0.107610</td>\n",
       "      <td>0.485490</td>\n",
       "      <td>0.396490</td>\n",
       "      <td>0.078376</td>\n",
       "      <td>0.002837</td>\n",
       "      <td>0.001464</td>\n",
       "      <td>0.005022</td>\n",
       "      <td>0.033415</td>\n",
       "      <td>0.001115</td>\n",
       "      <td>0.000229</td>\n",
       "      <td>0.000007</td>\n",
       "      <td>0.169400</td>\n",
       "    </tr>\n",
       "    <tr>\n",
       "      <th>25%</th>\n",
       "      <td>0.550622</td>\n",
       "      <td>1.211300</td>\n",
       "      <td>0.349623</td>\n",
       "      <td>0.890667</td>\n",
       "      <td>0.966230</td>\n",
       "      <td>0.346818</td>\n",
       "      <td>0.009521</td>\n",
       "      <td>0.016500</td>\n",
       "      <td>0.022843</td>\n",
       "      <td>0.083362</td>\n",
       "      <td>0.006901</td>\n",
       "      <td>0.002080</td>\n",
       "      <td>0.000102</td>\n",
       "      <td>0.718900</td>\n",
       "    </tr>\n",
       "    <tr>\n",
       "      <th>50%</th>\n",
       "      <td>0.763450</td>\n",
       "      <td>1.570750</td>\n",
       "      <td>0.501855</td>\n",
       "      <td>0.948130</td>\n",
       "      <td>0.992980</td>\n",
       "      <td>0.579160</td>\n",
       "      <td>0.023860</td>\n",
       "      <td>0.103615</td>\n",
       "      <td>0.042087</td>\n",
       "      <td>0.119375</td>\n",
       "      <td>0.014050</td>\n",
       "      <td>0.004447</td>\n",
       "      <td>0.000239</td>\n",
       "      <td>1.077450</td>\n",
       "    </tr>\n",
       "    <tr>\n",
       "      <th>75%</th>\n",
       "      <td>0.895097</td>\n",
       "      <td>2.343100</td>\n",
       "      <td>0.633373</td>\n",
       "      <td>0.976897</td>\n",
       "      <td>1.000000</td>\n",
       "      <td>0.700712</td>\n",
       "      <td>0.047834</td>\n",
       "      <td>0.416433</td>\n",
       "      <td>0.073046</td>\n",
       "      <td>0.163795</td>\n",
       "      <td>0.026127</td>\n",
       "      <td>0.008307</td>\n",
       "      <td>0.000516</td>\n",
       "      <td>1.554575</td>\n",
       "    </tr>\n",
       "    <tr>\n",
       "      <th>max</th>\n",
       "      <td>0.998710</td>\n",
       "      <td>19.038000</td>\n",
       "      <td>0.948340</td>\n",
       "      <td>0.993880</td>\n",
       "      <td>1.000000</td>\n",
       "      <td>0.858160</td>\n",
       "      <td>0.198980</td>\n",
       "      <td>7.206200</td>\n",
       "      <td>0.190670</td>\n",
       "      <td>0.280810</td>\n",
       "      <td>0.073089</td>\n",
       "      <td>0.029786</td>\n",
       "      <td>0.002936</td>\n",
       "      <td>2.708500</td>\n",
       "    </tr>\n",
       "  </tbody>\n",
       "</table>\n",
       "</div>"
      ],
      "text/plain": [
       "       Eccentricity  Aspect_Ratio  Elongation    Solidity  \\\n",
       "count    340.000000    340.000000  340.000000  340.000000   \n",
       "mean       0.719854      2.440210    0.513760    0.904158   \n",
       "std        0.208311      2.599043    0.195583    0.114639   \n",
       "min        0.117080      1.006600    0.107610    0.485490   \n",
       "25%        0.550622      1.211300    0.349623    0.890667   \n",
       "50%        0.763450      1.570750    0.501855    0.948130   \n",
       "75%        0.895097      2.343100    0.633373    0.976897   \n",
       "max        0.998710     19.038000    0.948340    0.993880   \n",
       "\n",
       "       Stochastic_Convexity  Isoperimetric_Factor  Maximal_Indentation_Depth  \\\n",
       "count            340.000000            340.000000                 340.000000   \n",
       "mean               0.943793              0.531234                   0.037345   \n",
       "std                0.115047              0.217532                   0.038575   \n",
       "min                0.396490              0.078376                   0.002837   \n",
       "25%                0.966230              0.346818                   0.009521   \n",
       "50%                0.992980              0.579160                   0.023860   \n",
       "75%                1.000000              0.700712                   0.047834   \n",
       "max                1.000000              0.858160                   0.198980   \n",
       "\n",
       "        Lobedness  Average_Intensity  Average_Contrast  Smoothness  \\\n",
       "count  340.000000         340.000000        340.000000  340.000000   \n",
       "mean     0.523845           0.051346          0.124535    0.017670   \n",
       "std      1.039639           0.035965          0.051860    0.013755   \n",
       "min      0.001464           0.005022          0.033415    0.001115   \n",
       "25%      0.016500           0.022843          0.083362    0.006901   \n",
       "50%      0.103615           0.042087          0.119375    0.014050   \n",
       "75%      0.416433           0.073046          0.163795    0.026127   \n",
       "max      7.206200           0.190670          0.280810    0.073089   \n",
       "\n",
       "       Third_moment  Uniformity     Entropy  \n",
       "count    340.000000  340.000000  340.000000  \n",
       "mean       0.005928    0.000387    1.162630  \n",
       "std        0.005294    0.000431    0.584854  \n",
       "min        0.000229    0.000007    0.169400  \n",
       "25%        0.002080    0.000102    0.718900  \n",
       "50%        0.004447    0.000239    1.077450  \n",
       "75%        0.008307    0.000516    1.554575  \n",
       "max        0.029786    0.002936    2.708500  "
      ]
     },
     "execution_count": 42,
     "metadata": {},
     "output_type": "execute_result"
    }
   ],
   "source": [
    "data_numerical = data[numerical_columns]\n",
    "data_numerical.describe()"
   ]
  },
  {
   "cell_type": "code",
   "execution_count": 43,
   "metadata": {
    "collapsed": true
   },
   "outputs": [],
   "source": [
    "data_numerical = (data_numerical - data_numerical.mean(axis = 0))/data_numerical.std(axis = 0)"
   ]
  },
  {
   "cell_type": "code",
   "execution_count": 44,
   "metadata": {},
   "outputs": [
    {
     "data": {
      "text/html": [
       "<div>\n",
       "<style>\n",
       "    .dataframe thead tr:only-child th {\n",
       "        text-align: right;\n",
       "    }\n",
       "\n",
       "    .dataframe thead th {\n",
       "        text-align: left;\n",
       "    }\n",
       "\n",
       "    .dataframe tbody tr th {\n",
       "        vertical-align: top;\n",
       "    }\n",
       "</style>\n",
       "<table border=\"1\" class=\"dataframe\">\n",
       "  <thead>\n",
       "    <tr style=\"text-align: right;\">\n",
       "      <th></th>\n",
       "      <th>Eccentricity</th>\n",
       "      <th>Aspect_Ratio</th>\n",
       "      <th>Elongation</th>\n",
       "      <th>Solidity</th>\n",
       "      <th>Stochastic_Convexity</th>\n",
       "      <th>Isoperimetric_Factor</th>\n",
       "      <th>Maximal_Indentation_Depth</th>\n",
       "      <th>Lobedness</th>\n",
       "      <th>Average_Intensity</th>\n",
       "      <th>Average_Contrast</th>\n",
       "      <th>Smoothness</th>\n",
       "      <th>Third_moment</th>\n",
       "      <th>Uniformity</th>\n",
       "      <th>Entropy</th>\n",
       "      <th>Class</th>\n",
       "    </tr>\n",
       "  </thead>\n",
       "  <tbody>\n",
       "    <tr>\n",
       "      <th>count</th>\n",
       "      <td>3.400000e+02</td>\n",
       "      <td>3.400000e+02</td>\n",
       "      <td>3.400000e+02</td>\n",
       "      <td>3.400000e+02</td>\n",
       "      <td>3.400000e+02</td>\n",
       "      <td>3.400000e+02</td>\n",
       "      <td>3.400000e+02</td>\n",
       "      <td>3.400000e+02</td>\n",
       "      <td>3.400000e+02</td>\n",
       "      <td>3.400000e+02</td>\n",
       "      <td>3.400000e+02</td>\n",
       "      <td>3.400000e+02</td>\n",
       "      <td>3.400000e+02</td>\n",
       "      <td>3.400000e+02</td>\n",
       "      <td>340.000000</td>\n",
       "    </tr>\n",
       "    <tr>\n",
       "      <th>mean</th>\n",
       "      <td>-7.836868e-17</td>\n",
       "      <td>1.025324e-16</td>\n",
       "      <td>1.182714e-15</td>\n",
       "      <td>2.612289e-15</td>\n",
       "      <td>3.811330e-15</td>\n",
       "      <td>5.956020e-16</td>\n",
       "      <td>9.404242e-17</td>\n",
       "      <td>3.160870e-16</td>\n",
       "      <td>-8.450756e-16</td>\n",
       "      <td>-8.228712e-17</td>\n",
       "      <td>2.821273e-16</td>\n",
       "      <td>2.089832e-16</td>\n",
       "      <td>2.559227e-16</td>\n",
       "      <td>-1.320839e-15</td>\n",
       "      <td>18.544118</td>\n",
       "    </tr>\n",
       "    <tr>\n",
       "      <th>std</th>\n",
       "      <td>1.000000e+00</td>\n",
       "      <td>1.000000e+00</td>\n",
       "      <td>1.000000e+00</td>\n",
       "      <td>1.000000e+00</td>\n",
       "      <td>1.000000e+00</td>\n",
       "      <td>1.000000e+00</td>\n",
       "      <td>1.000000e+00</td>\n",
       "      <td>1.000000e+00</td>\n",
       "      <td>1.000000e+00</td>\n",
       "      <td>1.000000e+00</td>\n",
       "      <td>1.000000e+00</td>\n",
       "      <td>1.000000e+00</td>\n",
       "      <td>1.000000e+00</td>\n",
       "      <td>1.000000e+00</td>\n",
       "      <td>11.152514</td>\n",
       "    </tr>\n",
       "    <tr>\n",
       "      <th>min</th>\n",
       "      <td>-2.893625e+00</td>\n",
       "      <td>-5.515916e-01</td>\n",
       "      <td>-2.076615e+00</td>\n",
       "      <td>-3.652049e+00</td>\n",
       "      <td>-4.757231e+00</td>\n",
       "      <td>-2.081802e+00</td>\n",
       "      <td>-8.945736e-01</td>\n",
       "      <td>-5.024633e-01</td>\n",
       "      <td>-1.288046e+00</td>\n",
       "      <td>-1.757048e+00</td>\n",
       "      <td>-1.203535e+00</td>\n",
       "      <td>-1.076344e+00</td>\n",
       "      <td>-8.814640e-01</td>\n",
       "      <td>-1.698253e+00</td>\n",
       "      <td>1.000000</td>\n",
       "    </tr>\n",
       "    <tr>\n",
       "      <th>25%</th>\n",
       "      <td>-8.123989e-01</td>\n",
       "      <td>-4.728318e-01</td>\n",
       "      <td>-8.392240e-01</td>\n",
       "      <td>-1.176756e-01</td>\n",
       "      <td>1.950257e-01</td>\n",
       "      <td>-8.477669e-01</td>\n",
       "      <td>-7.212939e-01</td>\n",
       "      <td>-4.880009e-01</td>\n",
       "      <td>-7.925253e-01</td>\n",
       "      <td>-7.939332e-01</td>\n",
       "      <td>-7.828785e-01</td>\n",
       "      <td>-7.268709e-01</td>\n",
       "      <td>-6.604173e-01</td>\n",
       "      <td>-7.587023e-01</td>\n",
       "      <td>9.000000</td>\n",
       "    </tr>\n",
       "    <tr>\n",
       "      <th>50%</th>\n",
       "      <td>2.092823e-01</td>\n",
       "      <td>-3.345309e-01</td>\n",
       "      <td>-6.087142e-02</td>\n",
       "      <td>3.835711e-01</td>\n",
       "      <td>4.275402e-01</td>\n",
       "      <td>2.203195e-01</td>\n",
       "      <td>-3.495692e-01</td>\n",
       "      <td>-4.042074e-01</td>\n",
       "      <td>-2.574413e-01</td>\n",
       "      <td>-9.949592e-02</td>\n",
       "      <td>-2.631746e-01</td>\n",
       "      <td>-2.797381e-01</td>\n",
       "      <td>-3.442725e-01</td>\n",
       "      <td>-1.456430e-01</td>\n",
       "      <td>15.000000</td>\n",
       "    </tr>\n",
       "    <tr>\n",
       "      <th>75%</th>\n",
       "      <td>8.412579e-01</td>\n",
       "      <td>-3.736376e-02</td>\n",
       "      <td>6.115670e-01</td>\n",
       "      <td>6.345107e-01</td>\n",
       "      <td>4.885590e-01</td>\n",
       "      <td>7.791005e-01</td>\n",
       "      <td>2.719098e-01</td>\n",
       "      <td>-1.033170e-01</td>\n",
       "      <td>6.033490e-01</td>\n",
       "      <td>7.570472e-01</td>\n",
       "      <td>6.148668e-01</td>\n",
       "      <td>4.494055e-01</td>\n",
       "      <td>2.988933e-01</td>\n",
       "      <td>6.701592e-01</td>\n",
       "      <td>29.000000</td>\n",
       "    </tr>\n",
       "    <tr>\n",
       "      <th>max</th>\n",
       "      <td>1.338651e+00</td>\n",
       "      <td>6.386117e+00</td>\n",
       "      <td>2.221971e+00</td>\n",
       "      <td>7.826495e-01</td>\n",
       "      <td>4.885590e-01</td>\n",
       "      <td>1.502892e+00</td>\n",
       "      <td>4.190168e+00</td>\n",
       "      <td>6.427570e+00</td>\n",
       "      <td>3.873877e+00</td>\n",
       "      <td>3.013427e+00</td>\n",
       "      <td>4.028996e+00</td>\n",
       "      <td>4.506561e+00</td>\n",
       "      <td>5.907140e+00</td>\n",
       "      <td>2.643174e+00</td>\n",
       "      <td>36.000000</td>\n",
       "    </tr>\n",
       "  </tbody>\n",
       "</table>\n",
       "</div>"
      ],
      "text/plain": [
       "       Eccentricity  Aspect_Ratio    Elongation      Solidity  \\\n",
       "count  3.400000e+02  3.400000e+02  3.400000e+02  3.400000e+02   \n",
       "mean  -7.836868e-17  1.025324e-16  1.182714e-15  2.612289e-15   \n",
       "std    1.000000e+00  1.000000e+00  1.000000e+00  1.000000e+00   \n",
       "min   -2.893625e+00 -5.515916e-01 -2.076615e+00 -3.652049e+00   \n",
       "25%   -8.123989e-01 -4.728318e-01 -8.392240e-01 -1.176756e-01   \n",
       "50%    2.092823e-01 -3.345309e-01 -6.087142e-02  3.835711e-01   \n",
       "75%    8.412579e-01 -3.736376e-02  6.115670e-01  6.345107e-01   \n",
       "max    1.338651e+00  6.386117e+00  2.221971e+00  7.826495e-01   \n",
       "\n",
       "       Stochastic_Convexity  Isoperimetric_Factor  Maximal_Indentation_Depth  \\\n",
       "count          3.400000e+02          3.400000e+02               3.400000e+02   \n",
       "mean           3.811330e-15          5.956020e-16               9.404242e-17   \n",
       "std            1.000000e+00          1.000000e+00               1.000000e+00   \n",
       "min           -4.757231e+00         -2.081802e+00              -8.945736e-01   \n",
       "25%            1.950257e-01         -8.477669e-01              -7.212939e-01   \n",
       "50%            4.275402e-01          2.203195e-01              -3.495692e-01   \n",
       "75%            4.885590e-01          7.791005e-01               2.719098e-01   \n",
       "max            4.885590e-01          1.502892e+00               4.190168e+00   \n",
       "\n",
       "          Lobedness  Average_Intensity  Average_Contrast    Smoothness  \\\n",
       "count  3.400000e+02       3.400000e+02      3.400000e+02  3.400000e+02   \n",
       "mean   3.160870e-16      -8.450756e-16     -8.228712e-17  2.821273e-16   \n",
       "std    1.000000e+00       1.000000e+00      1.000000e+00  1.000000e+00   \n",
       "min   -5.024633e-01      -1.288046e+00     -1.757048e+00 -1.203535e+00   \n",
       "25%   -4.880009e-01      -7.925253e-01     -7.939332e-01 -7.828785e-01   \n",
       "50%   -4.042074e-01      -2.574413e-01     -9.949592e-02 -2.631746e-01   \n",
       "75%   -1.033170e-01       6.033490e-01      7.570472e-01  6.148668e-01   \n",
       "max    6.427570e+00       3.873877e+00      3.013427e+00  4.028996e+00   \n",
       "\n",
       "       Third_moment    Uniformity       Entropy       Class  \n",
       "count  3.400000e+02  3.400000e+02  3.400000e+02  340.000000  \n",
       "mean   2.089832e-16  2.559227e-16 -1.320839e-15   18.544118  \n",
       "std    1.000000e+00  1.000000e+00  1.000000e+00   11.152514  \n",
       "min   -1.076344e+00 -8.814640e-01 -1.698253e+00    1.000000  \n",
       "25%   -7.268709e-01 -6.604173e-01 -7.587023e-01    9.000000  \n",
       "50%   -2.797381e-01 -3.442725e-01 -1.456430e-01   15.000000  \n",
       "75%    4.494055e-01  2.988933e-01  6.701592e-01   29.000000  \n",
       "max    4.506561e+00  5.907140e+00  2.643174e+00   36.000000  "
      ]
     },
     "execution_count": 44,
     "metadata": {},
     "output_type": "execute_result"
    }
   ],
   "source": [
    "data = pd.concat((data_numerical, data_nonbinary), axis = 1)\n",
    "data.describe()"
   ]
  },
  {
   "cell_type": "code",
   "execution_count": 45,
   "metadata": {
    "collapsed": true
   },
   "outputs": [],
   "source": [
    "X = data.drop(('Class'), axis = 1)\n",
    "y = data['Class']\n",
    "feature_names = X.columns"
   ]
  },
  {
   "cell_type": "code",
   "execution_count": 46,
   "metadata": {},
   "outputs": [
    {
     "data": {
      "text/plain": [
       "pandas.core.indexes.base.Index"
      ]
     },
     "execution_count": 46,
     "metadata": {},
     "output_type": "execute_result"
    }
   ],
   "source": [
    "type(feature_names)"
   ]
  },
  {
   "cell_type": "code",
   "execution_count": 47,
   "metadata": {},
   "outputs": [
    {
     "data": {
      "text/plain": [
       "Index(['Eccentricity', 'Aspect_Ratio', 'Elongation', 'Solidity',\n",
       "       'Stochastic_Convexity', 'Isoperimetric_Factor',\n",
       "       'Maximal_Indentation_Depth', 'Lobedness', 'Average_Intensity',\n",
       "       'Average_Contrast', 'Smoothness', 'Third_moment', 'Uniformity',\n",
       "       'Entropy'],\n",
       "      dtype='object')"
      ]
     },
     "execution_count": 47,
     "metadata": {},
     "output_type": "execute_result"
    }
   ],
   "source": [
    "feature_names"
   ]
  },
  {
   "cell_type": "code",
   "execution_count": 48,
   "metadata": {},
   "outputs": [
    {
     "name": "stdout",
     "output_type": "stream",
     "text": [
      "(340, 14)\n",
      "(340,)\n"
     ]
    }
   ],
   "source": [
    "print(X.shape)\n",
    "print(y.shape)\n",
    "N, d = X.shape"
   ]
  },
  {
   "cell_type": "code",
   "execution_count": 49,
   "metadata": {},
   "outputs": [
    {
     "data": {
      "text/plain": [
       "pandas.core.frame.DataFrame"
      ]
     },
     "execution_count": 49,
     "metadata": {},
     "output_type": "execute_result"
    }
   ],
   "source": [
    "type(X)"
   ]
  },
  {
   "cell_type": "code",
   "execution_count": 50,
   "metadata": {},
   "outputs": [
    {
     "data": {
      "text/plain": [
       "pandas.core.series.Series"
      ]
     },
     "execution_count": 50,
     "metadata": {},
     "output_type": "execute_result"
    }
   ],
   "source": [
    "type(y)"
   ]
  },
  {
   "cell_type": "code",
   "execution_count": 51,
   "metadata": {},
   "outputs": [
    {
     "name": "stdout",
     "output_type": "stream",
     "text": [
      "238 102\n"
     ]
    }
   ],
   "source": [
    "from sklearn.model_selection import train_test_split\n",
    "X_train, X_test, y_train, y_test = train_test_split(X, y, test_size = 0.3, random_state = 42)\n",
    "\n",
    "N_train, _ = X_train.shape \n",
    "N_test,  _ = X_test.shape \n",
    "\n",
    "print(N_train, N_test)"
   ]
  },
  {
   "cell_type": "code",
   "execution_count": 52,
   "metadata": {},
   "outputs": [
    {
     "data": {
      "text/plain": [
       "KNeighborsClassifier(algorithm='auto', leaf_size=30, metric='minkowski',\n",
       "           metric_params=None, n_jobs=1, n_neighbors=10, p=2,\n",
       "           weights='uniform')"
      ]
     },
     "execution_count": 52,
     "metadata": {},
     "output_type": "execute_result"
    }
   ],
   "source": [
    "from sklearn.neighbors import KNeighborsClassifier\n",
    "\n",
    "knn = KNeighborsClassifier(n_neighbors = 10)\n",
    "knn.fit(X_train, y_train)"
   ]
  },
  {
   "cell_type": "code",
   "execution_count": 53,
   "metadata": {},
   "outputs": [
    {
     "data": {
      "text/plain": [
       "KNeighborsClassifier(algorithm='auto', leaf_size=30, metric='minkowski',\n",
       "           metric_params=None, n_jobs=1, n_neighbors=10, p=2,\n",
       "           weights='uniform')"
      ]
     },
     "execution_count": 53,
     "metadata": {},
     "output_type": "execute_result"
    }
   ],
   "source": [
    "knn"
   ]
  },
  {
   "cell_type": "code",
   "execution_count": 54,
   "metadata": {},
   "outputs": [
    {
     "name": "stdout",
     "output_type": "stream",
     "text": [
      "0.352941176471 0.441176470588\n"
     ]
    }
   ],
   "source": [
    "y_train_predict = knn.predict(X_train)\n",
    "y_test_predict = knn.predict(X_test)\n",
    "\n",
    "err_train = np.mean(y_train != y_train_predict)\n",
    "err_test  = np.mean(y_test  != y_test_predict)\n",
    "\n",
    "print(err_train, err_test)"
   ]
  },
  {
   "cell_type": "code",
   "execution_count": 55,
   "metadata": {
    "collapsed": true
   },
   "outputs": [],
   "source": [
    "err_test = 1 - knn.score(X_test, y_test)"
   ]
  },
  {
   "cell_type": "code",
   "execution_count": 56,
   "metadata": {},
   "outputs": [
    {
     "data": {
      "text/plain": [
       "0.44117647058823528"
      ]
     },
     "execution_count": 56,
     "metadata": {},
     "output_type": "execute_result"
    }
   ],
   "source": [
    "err_test"
   ]
  },
  {
   "cell_type": "code",
   "execution_count": 57,
   "metadata": {},
   "outputs": [
    {
     "name": "stdout",
     "output_type": "stream",
     "text": [
      "[[2 0 0 0 0 0 0 0 0 0 0 0 0 0 0 0 0 0 0 0 1 0 1 0 0 0 0 0 0 0]\n",
      " [0 2 0 0 0 0 0 0 0 0 0 0 0 0 0 0 0 0 0 0 0 0 0 0 0 2 0 0 0 0]\n",
      " [0 0 2 0 0 0 0 0 0 0 0 0 0 0 0 0 0 0 0 0 0 0 0 0 0 0 0 0 0 0]\n",
      " [0 0 0 0 0 0 0 0 1 0 0 0 1 0 0 0 0 0 0 0 0 0 0 0 0 0 0 0 0 0]\n",
      " [0 0 0 0 3 0 0 0 0 0 0 0 0 0 0 0 0 0 0 0 0 0 0 0 0 0 0 0 0 0]\n",
      " [0 0 0 0 0 2 0 0 0 0 0 0 0 0 0 0 0 0 0 0 0 0 0 0 0 0 0 0 0 0]\n",
      " [0 0 0 0 1 0 1 0 0 0 0 1 0 0 0 0 0 0 0 0 0 0 0 0 0 0 0 0 0 0]\n",
      " [0 0 0 0 0 0 0 7 0 0 0 0 0 0 0 0 0 0 0 0 0 0 0 0 0 0 0 0 0 0]\n",
      " [0 0 0 0 0 0 0 0 3 1 0 0 0 0 0 0 0 0 0 0 0 0 0 0 0 0 0 0 0 0]\n",
      " [0 0 0 0 0 0 0 0 0 2 0 0 0 0 0 0 0 0 0 0 0 0 0 0 0 0 0 0 0 0]\n",
      " [0 0 0 0 0 0 0 0 0 0 8 0 0 0 0 0 0 0 0 0 0 0 0 0 0 0 0 0 0 0]\n",
      " [0 0 0 0 0 0 0 0 0 0 0 2 0 0 0 0 0 0 0 0 0 0 0 0 0 0 0 0 0 0]\n",
      " [0 0 0 0 0 0 0 0 0 0 0 0 2 0 0 0 0 0 0 0 3 0 0 1 0 0 1 0 0 0]\n",
      " [0 0 0 0 0 0 0 0 0 0 0 0 0 1 0 0 0 0 0 0 0 2 0 0 0 0 0 0 0 0]\n",
      " [0 0 0 0 0 0 0 0 1 0 0 0 0 0 0 0 0 0 0 0 0 0 0 0 0 0 0 0 0 0]\n",
      " [0 1 0 0 1 0 0 0 0 0 0 1 0 0 0 1 1 0 0 0 0 0 0 0 0 0 0 0 0 0]\n",
      " [0 0 0 0 0 0 0 0 0 0 0 0 0 0 0 0 0 0 0 0 0 0 0 0 0 0 0 0 0 0]\n",
      " [0 0 0 2 0 0 0 0 0 0 0 0 1 0 0 0 0 0 0 0 0 0 0 0 0 0 2 0 0 0]\n",
      " [0 0 0 0 0 0 0 0 0 3 0 0 0 1 0 0 0 0 0 0 0 0 0 0 0 0 0 0 0 0]\n",
      " [0 0 1 0 0 0 0 0 0 0 0 0 1 0 0 0 0 0 0 0 0 0 0 0 0 0 0 0 0 0]\n",
      " [0 0 0 0 0 0 0 0 0 0 0 0 0 0 0 0 0 1 0 0 1 0 0 0 0 0 0 0 0 0]\n",
      " [0 0 0 0 0 0 0 0 0 0 0 0 0 0 0 0 0 0 0 0 0 2 0 0 0 0 0 0 0 0]\n",
      " [1 0 0 0 0 0 0 0 0 0 0 0 0 0 0 0 0 0 0 0 0 0 1 0 0 0 0 0 0 0]\n",
      " [0 0 0 0 0 0 0 0 3 0 0 0 0 0 0 0 0 0 0 0 0 0 0 0 0 0 0 0 0 0]\n",
      " [0 0 0 0 0 0 0 0 0 0 0 0 0 0 0 0 0 0 0 0 0 0 0 0 4 0 0 0 0 0]\n",
      " [1 0 0 0 0 0 0 0 0 0 0 0 0 0 0 0 0 0 0 0 0 0 0 0 0 1 0 0 0 0]\n",
      " [1 0 0 0 0 0 0 0 0 0 0 0 0 0 0 0 0 0 0 0 0 0 0 1 0 0 3 0 0 0]\n",
      " [0 0 0 0 0 0 0 0 0 0 0 0 0 0 0 0 0 0 0 0 0 0 0 0 1 0 0 3 0 0]\n",
      " [0 0 0 0 0 0 0 0 0 0 0 0 0 1 0 1 0 0 0 0 0 1 0 0 0 0 0 0 2 0]\n",
      " [0 0 0 0 0 0 0 0 0 0 0 0 0 0 1 0 0 0 0 0 0 0 0 0 0 0 0 0 0 2]]\n"
     ]
    }
   ],
   "source": [
    "from sklearn.metrics import confusion_matrix\n",
    "\n",
    "print(confusion_matrix(y_test, y_test_predict))"
   ]
  },
  {
   "cell_type": "code",
   "execution_count": 58,
   "metadata": {},
   "outputs": [
    {
     "name": "stderr",
     "output_type": "stream",
     "text": [
      "C:\\Users\\gun95\\Anaconda3\\lib\\site-packages\\sklearn\\model_selection\\_split.py:597: Warning: The least populated class in y has only 4 members, which is too few. The minimum number of members in any class cannot be less than n_splits=10.\n",
      "  % (min_groups, self.n_splits)), Warning)\n"
     ]
    },
    {
     "name": "stdout",
     "output_type": "stream",
     "text": [
      "0.331932773109 1\n"
     ]
    }
   ],
   "source": [
    "from sklearn.model_selection import GridSearchCV\n",
    "nnb = [1, 3, 5, 10, 15, 20, 25, 35, 45, 55]\n",
    "knn = KNeighborsClassifier()\n",
    "grid = GridSearchCV(knn, param_grid = {'n_neighbors': nnb}, cv=10)\n",
    "grid.fit(X_train, y_train)\n",
    "\n",
    "best_cv_err = 1 - grid.best_score_\n",
    "best_n_neighbors = grid.best_estimator_.n_neighbors\n",
    "print(best_cv_err, best_n_neighbors)"
   ]
  },
  {
   "cell_type": "code",
   "execution_count": 59,
   "metadata": {},
   "outputs": [
    {
     "name": "stdout",
     "output_type": "stream",
     "text": [
      "0.0 0.264705882353\n"
     ]
    }
   ],
   "source": [
    "knn = KNeighborsClassifier(n_neighbors = best_n_neighbors).fit(X_train, y_train)\n",
    "\n",
    "err_train = np.mean(y_train != knn.predict(X_train))\n",
    "err_test  = np.mean(y_test  != knn.predict(X_test))\n",
    "\n",
    "print(err_train, err_test)"
   ]
  },
  {
   "cell_type": "code",
   "execution_count": null,
   "metadata": {
    "collapsed": true
   },
   "outputs": [],
   "source": []
  }
 ],
 "metadata": {
  "kernelspec": {
   "display_name": "Python 3",
   "language": "python",
   "name": "python3"
  },
  "language_info": {
   "codemirror_mode": {
    "name": "ipython",
    "version": 3
   },
   "file_extension": ".py",
   "mimetype": "text/x-python",
   "name": "python",
   "nbconvert_exporter": "python",
   "pygments_lexer": "ipython3",
   "version": "3.6.2"
  }
 },
 "nbformat": 4,
 "nbformat_minor": 2
}
